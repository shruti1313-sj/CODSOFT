{
 "cells": [
  {
   "cell_type": "markdown",
   "id": "e5ee4493-9dbb-4e71-8df0-5ca91d29bfb1",
   "metadata": {},
   "source": [
    "### CONTAC BOOK"
   ]
  },
  {
   "cell_type": "code",
   "execution_count": null,
   "id": "b1d8d18e-6dff-41cd-9fa7-f13a6bc0ca33",
   "metadata": {},
   "outputs": [
    {
     "name": "stdout",
     "output_type": "stream",
     "text": [
      "/n contact book app\n",
      "1_1.create contact\n",
      "2_2.view contact\n",
      "3_3.update contact\n",
      "4_4.delete contact\n",
      "5_5.search contact\n",
      "6_6.count contact\n",
      "7_7.exit\n"
     ]
    },
    {
     "name": "stdin",
     "output_type": "stream",
     "text": [
      "enter your choice 1_1\n"
     ]
    },
    {
     "name": "stdout",
     "output_type": "stream",
     "text": [
      "Invalid input\n",
      "/n contact book app\n",
      "1_1.create contact\n",
      "2_2.view contact\n",
      "3_3.update contact\n",
      "4_4.delete contact\n",
      "5_5.search contact\n",
      "6_6.count contact\n",
      "7_7.exit\n"
     ]
    },
    {
     "name": "stdin",
     "output_type": "stream",
     "text": [
      "enter your choice 1\n",
      "enter your name= 7\n",
      "enter address= dydh\n",
      "enter email= fdhch@njkg\n",
      "enter mobile no = 3542637586\n"
     ]
    },
    {
     "name": "stdout",
     "output_type": "stream",
     "text": [
      "contact name 7 has been created successfully!\n",
      "/n contact book app\n",
      "1_1.create contact\n",
      "2_2.view contact\n",
      "3_3.update contact\n",
      "4_4.delete contact\n",
      "5_5.search contact\n",
      "6_6.count contact\n",
      "7_7.exit\n"
     ]
    },
    {
     "name": "stdin",
     "output_type": "stream",
     "text": [
      "enter your choice 7\n"
     ]
    },
    {
     "name": "stdout",
     "output_type": "stream",
     "text": [
      "Good bye...Closing the program\n",
      "/n contact book app\n",
      "1_1.create contact\n",
      "2_2.view contact\n",
      "3_3.update contact\n",
      "4_4.delete contact\n",
      "5_5.search contact\n",
      "6_6.count contact\n",
      "7_7.exit\n"
     ]
    }
   ],
   "source": [
    "# empty dictionary\n",
    "contacts={}\n",
    "while True:\n",
    "\n",
    "     \n",
    "    print('/n contact book app')\n",
    "    print('1_1.create contact')\n",
    "    print('2_2.view contact')\n",
    "    print('3_3.update contact')\n",
    "    print('4_4.delete contact')\n",
    "    print('5_5.search contact')\n",
    "    print('6_6.count contact')\n",
    "    print('7_7.exit')\n",
    "\n",
    "    choice = input('enter your choice')\n",
    "\n",
    "    if choice =='1':\n",
    "        name=input('enter your name=')\n",
    "        if name in contacts:\n",
    "            print(f'contact name{name}already exists!')\n",
    "        else:\n",
    "            address=input('enter address=')\n",
    "            email=input('enter email=')\n",
    "            mobile=input('enter mobile no =')\n",
    "            contacts[name]={'address':(address),'email':email,'mobile':mobile}\n",
    "            print(f'contact name {name} has been created successfully!')\n",
    "    elif choice=='2':\n",
    "         name=input('enter contact name to view =')\n",
    "         if name in contacts:\n",
    "            contacts=contacts[name]\n",
    "            print(f'Name;{name},address:{address},Mobile no:{mobile}')\n",
    "         else:\n",
    "             print('contact not found!')\n",
    "\n",
    "    elif choice=='3':\n",
    "         name=input('enter name to update contact=')\n",
    "         if name in contacts:\n",
    "            address=input('enter updated address=')\n",
    "            email=input('enter updated email=')\n",
    "            mobile=input('enter updtad mobile no=')\n",
    "            contacts[name]={'address':varchar(address),'email':email,'mobile':mobile}\n",
    "         else:\n",
    "            print('contact not found!')\n",
    "\n",
    "    elif choice=='4':\n",
    "        name=input('enter contact name to delete= ')\n",
    "        if name in contacts:\n",
    "           del contacts[name]\n",
    "           print(f'contact name{name}has been deleted sucessfully!')\n",
    "        else:\n",
    "            print('contact not found')\n",
    "\n",
    "    elif choice=='5':\n",
    "        search_name =input('enter contact name to search=')\n",
    "        found=False\n",
    "        for name,contact in contacts.items():\n",
    "            if search_name.lower() in name.lower():\n",
    "                print(f'found-Name{name},Address:{address},Mobile no:{mobile},Email:{email}')\n",
    "                found=True\n",
    "            if not found:\n",
    "             print('no contact found with that name')\n",
    "\n",
    "    elif choice=='6':\n",
    "          print(f'total contacts in your book :{len(contacts)}')\n",
    "\n",
    "    elif choice=='7':\n",
    "        print('Good bye...Closing the program')\n",
    "        \n",
    "\n",
    "    else:\n",
    "             print('Invalid input')"
   ]
  },
  {
   "cell_type": "code",
   "execution_count": null,
   "id": "d282c577-6854-4c97-b87a-deb5226f2ea1",
   "metadata": {},
   "outputs": [],
   "source": []
  }
 ],
 "metadata": {
  "kernelspec": {
   "display_name": "Python 3 (ipykernel)",
   "language": "python",
   "name": "python3"
  },
  "language_info": {
   "codemirror_mode": {
    "name": "ipython",
    "version": 3
   },
   "file_extension": ".py",
   "mimetype": "text/x-python",
   "name": "python",
   "nbconvert_exporter": "python",
   "pygments_lexer": "ipython3",
   "version": "3.12.4"
  }
 },
 "nbformat": 4,
 "nbformat_minor": 5
}
