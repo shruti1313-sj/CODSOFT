{
 "cells": [
  {
   "cell_type": "markdown",
   "id": "a9bda010-6b9d-4907-99a1-fffac4eab817",
   "metadata": {},
   "source": [
    "# PASSWORD GENRRATOR"
   ]
  },
  {
   "cell_type": "code",
   "execution_count": 5,
   "id": "7e386d44-a97d-4cf7-a309-f009282f63e8",
   "metadata": {},
   "outputs": [
    {
     "name": "stdin",
     "output_type": "stream",
     "text": [
      "Enter the length of password in numbers 10\n"
     ]
    },
    {
     "name": "stdout",
     "output_type": "stream",
     "text": [
      "\" 9 ] y 3 L E / 2 l\n"
     ]
    }
   ],
   "source": [
    "import string\n",
    "import random \n",
    "P1=string.ascii_lowercase\n",
    "P2=string.ascii_uppercase\n",
    "P3=string.digits\n",
    "P4=string.punctuation\n",
    "#user input\n",
    "password_length=int(input(\"Enter the length of password in numbers\"))\n",
    "#Generate a password \n",
    "P=[]\n",
    "P.extend(list(P1))\n",
    "P.extend(list(P2))\n",
    "P.extend(list(P3))\n",
    "P.extend(list(P4))\n",
    "random.shuffle(P)\n",
    "#Display the password \n",
    "print(\" \".join (P[0: password_length]))"
   ]
  },
  {
   "cell_type": "code",
   "execution_count": null,
   "id": "9931d853-668c-44f3-abaf-e2ed5174994a",
   "metadata": {},
   "outputs": [],
   "source": []
  }
 ],
 "metadata": {
  "kernelspec": {
   "display_name": "Python 3 (ipykernel)",
   "language": "python",
   "name": "python3"
  },
  "language_info": {
   "codemirror_mode": {
    "name": "ipython",
    "version": 3
   },
   "file_extension": ".py",
   "mimetype": "text/x-python",
   "name": "python",
   "nbconvert_exporter": "python",
   "pygments_lexer": "ipython3",
   "version": "3.12.4"
  }
 },
 "nbformat": 4,
 "nbformat_minor": 5
}
