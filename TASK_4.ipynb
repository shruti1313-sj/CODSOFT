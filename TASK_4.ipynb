{
 "cells": [
  {
   "cell_type": "markdown",
   "id": "13801a90-ae92-4b59-b75b-1647f652cbc6",
   "metadata": {},
   "source": [
    "#                         ROCK , PAPER, SCISSOR"
   ]
  },
  {
   "cell_type": "code",
   "execution_count": 2,
   "id": "756cdb13-988c-4f09-b903-ee2d11de3334",
   "metadata": {},
   "outputs": [
    {
     "data": {
      "text/plain": [
       "'\\nWORKFLOW OF PROJECT:\\n1- Input from user(Rock, paper, scissor)\\n2- Computer choice ( comp will choose randomly not conditionally)\\n3- Result print\\n\\nCases:\\nA-Rock\\nRock-Rock==tie\\nRock-Paper==paper win\\nRock-Scissor==Rock win\\n\\nB-Scissor\\nScissor-Scissor=tie\\nScissor-Rock=Rock win\\nScissor-paper=Scissor win\\n\\nC-Paper\\nPaper-Paper=tie\\nPaper-Rock=Paper win\\nPaper-Scissor=Scissor win\\n\\n'"
      ]
     },
     "execution_count": 2,
     "metadata": {},
     "output_type": "execute_result"
    }
   ],
   "source": [
    "\"\"\"\n",
    "WORKFLOW OF PROJECT:\n",
    "1- Input from user(Rock, paper, scissor)\n",
    "2- Computer choice ( comp will choose randomly not conditionally)\n",
    "3- Result print\n",
    "\n",
    "Cases:\n",
    "A-Rock\n",
    "Rock-Rock==tie\n",
    "Rock-Paper==paper win\n",
    "Rock-Scissor==Rock win\n",
    "\n",
    "B-Scissor\n",
    "Scissor-Scissor=tie\n",
    "Scissor-Rock=Rock win\n",
    "Scissor-paper=Scissor win\n",
    "\n",
    "C-Paper\n",
    "Paper-Paper=tie\n",
    "Paper-Rock=Paper win\n",
    "Paper-Scissor=Scissor win\n",
    "\n",
    "\"\"\""
   ]
  },
  {
   "cell_type": "code",
   "execution_count": 12,
   "id": "65022eeb-92c8-4286-9c7f-b96ecd92092d",
   "metadata": {},
   "outputs": [
    {
     "name": "stdout",
     "output_type": "stream",
     "text": [
      "Winning rules of the game ROCK PAPER SCISSORS are:\n",
      "Rock vs Paper -> Paper wins \n",
      "Rock vs Scissors -> Rock wins \n",
      "Paper vs Scissors -> Scissors wins \n",
      "\n",
      "Enter your choice \n",
      " 111-Paper \n",
      " 222 -Scissors \n",
      " 333 -Rock \n",
      "\n"
     ]
    },
    {
     "name": "stdin",
     "output_type": "stream",
     "text": [
      "Enter your choice:  111\n"
     ]
    },
    {
     "name": "stdout",
     "output_type": "stream",
     "text": [
      "User choice is: Paper\n",
      "Now it's Computer's Turn...\n",
      "Computer choice is: Rock\n",
      "Paper vs Rock\n",
      "<== Computer wins! ==>\n",
      "Do you want to play again? (Y/N)\n"
     ]
    },
    {
     "name": "stdin",
     "output_type": "stream",
     "text": [
      " y\n"
     ]
    },
    {
     "name": "stdout",
     "output_type": "stream",
     "text": [
      "Enter your choice \n",
      " 111-Paper \n",
      " 222 -Scissors \n",
      " 333 -Rock \n",
      "\n"
     ]
    },
    {
     "name": "stdin",
     "output_type": "stream",
     "text": [
      "Enter your choice:  222\n"
     ]
    },
    {
     "name": "stdout",
     "output_type": "stream",
     "text": [
      "User choice is: Scissors\n",
      "Now it's Computer's Turn...\n",
      "Computer choice is: Rock\n",
      "Scissors vs Rock\n",
      "<== Computer wins! ==>\n",
      "Do you want to play again? (Y/N)\n"
     ]
    },
    {
     "name": "stdin",
     "output_type": "stream",
     "text": [
      " y\n"
     ]
    },
    {
     "name": "stdout",
     "output_type": "stream",
     "text": [
      "Enter your choice \n",
      " 111-Paper \n",
      " 222 -Scissors \n",
      " 333 -Rock \n",
      "\n"
     ]
    },
    {
     "name": "stdin",
     "output_type": "stream",
     "text": [
      "Enter your choice:  333\n"
     ]
    },
    {
     "name": "stdout",
     "output_type": "stream",
     "text": [
      "User choice is: Rock\n",
      "Now it's Computer's Turn...\n",
      "Computer choice is: Rock\n",
      "Rock vs Rock\n",
      "<== User wins! ==>\n",
      "Do you want to play again? (Y/N)\n"
     ]
    },
    {
     "name": "stdin",
     "output_type": "stream",
     "text": [
      " n\n"
     ]
    },
    {
     "name": "stdout",
     "output_type": "stream",
     "text": [
      "Thanks for playing!\n"
     ]
    }
   ],
   "source": [
    "import random\n",
    "\n",
    "# Print multiline instruction\n",
    "print('Winning rules of the game ROCK PAPER SCISSORS are:\\n'\n",
    "      + \"Rock vs Paper -> Paper wins \\n\"\n",
    "      + \"Rock vs Scissors -> Rock wins \\n\"\n",
    "      + \"Paper vs Scissors -> Scissors wins \\n\")\n",
    "\n",
    "while True:\n",
    "\n",
    "    print(\"Enter your choice \\n 111-Paper \\n 222 -Scissors \\n 333 -Rock \\n\")\n",
    "\n",
    "    ## Take the input from user\n",
    "    choice = int(input(\"Enter your choice: \"))\n",
    "\n",
    "    ##Looping until user enters valid input\n",
    "    while choice > 333 or choice < 111:\n",
    "        choice = int(input('Enter a valid choice please ☺: '))\n",
    "\n",
    "    ## Initialize value of choice_name variable corresponding to the choice value\n",
    "    if choice == 111:\n",
    "        choice_name = 'Paper'\n",
    "    elif choice == 222:\n",
    "        choice_name = 'Scissors'\n",
    "    else:\n",
    "        choice_name = 'Rock'\n",
    "\n",
    "    # Print user choice\n",
    "    print('User choice is:', choice_name)\n",
    "    print(\"Now it's Computer's Turn...\")\n",
    "\n",
    "    # Computer chooses randomly any number among 111, 222, and 333\n",
    "    comp_choice = random.randint(111, 333)\n",
    "\n",
    "    # Initialize value of comp_choice_name variable corresponding to the choice value\n",
    "    if comp_choice == 111:\n",
    "        comp_choice_name = 'Paper'\n",
    "    elif comp_choice == 222:\n",
    "        comp_choice_name = 'Scissors'\n",
    "    else:\n",
    "        comp_choice_name = 'Rock'\n",
    "\n",
    "    print(\"Computer choice is:\", comp_choice_name)\n",
    "    print(choice_name, 'vs', comp_choice_name)\n",
    "\n",
    "    # Determine the winner\n",
    "    if choice == comp_choice:\n",
    "        result = \"DRAW\"\n",
    "    elif (choice == 111 and comp_choice == 222) or (comp_choice == 111 and choice == 222):\n",
    "        result = 'Paper'\n",
    "    elif (choice == 111 and comp_choice == 333) or (comp_choice == 111 and choice == 333):\n",
    "        result = 'Scissors'\n",
    "    elif (choice == 222 and comp_choice == 333) or (comp_choice == 222 and choice == 333):\n",
    "        result = 'Rock'\n",
    "\n",
    "    # Print the result\n",
    "    if result == \"DRAW\":\n",
    "        print(\"<== It's a tie! ==>\")\n",
    "    elif result == choice_name:\n",
    "        print(\"<== User wins! ==>\")\n",
    "    else:\n",
    "        print(\"<== Computer wins! ==>\")\n",
    "\n",
    "    # Ask if the user wants to play again\n",
    "    print(\"Do you want to play again? (Y/N)\")\n",
    "    ans = input().lower()\n",
    "    if ans == 'n':\n",
    "        break\n",
    "\n",
    "# After coming out of the while loop, print thanks for playing\n",
    "print(\"Thanks for playing!\")\n"
   ]
  },
  {
   "cell_type": "code",
   "execution_count": null,
   "id": "7911add2-1452-4c47-be91-4f5be57da185",
   "metadata": {},
   "outputs": [],
   "source": []
  }
 ],
 "metadata": {
  "kernelspec": {
   "display_name": "Python 3 (ipykernel)",
   "language": "python",
   "name": "python3"
  },
  "language_info": {
   "codemirror_mode": {
    "name": "ipython",
    "version": 3
   },
   "file_extension": ".py",
   "mimetype": "text/x-python",
   "name": "python",
   "nbconvert_exporter": "python",
   "pygments_lexer": "ipython3",
   "version": "3.12.4"
  }
 },
 "nbformat": 4,
 "nbformat_minor": 5
}
